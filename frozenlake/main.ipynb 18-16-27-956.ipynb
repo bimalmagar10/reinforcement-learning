{
 "cells": [
  {
   "cell_type": "code",
   "execution_count": 1,
   "id": "7e3ec91b-c7d9-4f0a-a3c8-86a3ee82d702",
   "metadata": {},
   "outputs": [],
   "source": [
    "import warnings\n",
    "warnings.filterwarnings(\"ignore\", message=\"pkg_resources is deprecated\")"
   ]
  },
  {
   "cell_type": "code",
   "execution_count": 2,
   "id": "db3e20c8-07b8-448a-bbdf-7d973af1304c",
   "metadata": {},
   "outputs": [
    {
     "name": "stdout",
     "output_type": "stream",
     "text": [
      "****************************************************************************************************\n",
      "**** Welcome to the Frozen Lake Toy Text Project,a Reinforcement Learning\n",
      "**** implementation utilizing Q-Learning,a model-free based approach for solving games\n",
      "**** Experimented by:\n",
      "**** Bimal Thapa Magar\n",
      "****************************************************************************************************\n"
     ]
    }
   ],
   "source": [
    "print(f\"*\" * 100 + \"\\n**** Welcome to the Frozen Lake Toy Text Project\" + \",a Reinforcement Learning\" + \"\\n**** \" + \"implementation utilizing Q-Learning,a model-free based approach for solving games\")\n",
    "print(f\"****\" + \" Experimented by:\\n**** Bimal Thapa Magar\")\n",
    "print(f\"*\" * 100)"
   ]
  },
  {
   "cell_type": "code",
   "execution_count": 3,
   "id": "849616fe-55fb-42bf-aeaf-3a737c76eed9",
   "metadata": {},
   "outputs": [],
   "source": [
    "from pyvirtualdisplay import Display\n",
    "import numpy as np\n",
    "import gymnasium as gym\n",
    "import random\n",
    "import tqdm\n",
    "import imageio\n",
    "import imageio_ffmpeg\n",
    "from tqdm.notebook import trange"
   ]
  },
  {
   "cell_type": "code",
   "execution_count": 4,
   "id": "99ed71af-555b-4100-aeee-8a3a82396a14",
   "metadata": {},
   "outputs": [
    {
     "data": {
      "text/plain": [
       "<pyvirtualdisplay.display.Display at 0x119327bd0>"
      ]
     },
     "execution_count": 4,
     "metadata": {},
     "output_type": "execute_result"
    }
   ],
   "source": [
    "virtual_display =  Display(visible=False,size=(1400,900))\n",
    "virtual_display.start()"
   ]
  },
  {
   "cell_type": "code",
   "execution_count": 5,
   "id": "6d2a7367-8e9d-47a4-91b0-de26083b4ce7",
   "metadata": {},
   "outputs": [],
   "source": [
    "env = gym.make('FrozenLake-v1',desc=None,map_name=\"4x4\",is_slippery=False,render_mode=\"rgb_array\")"
   ]
  },
  {
   "cell_type": "code",
   "execution_count": 6,
   "id": "28caf0f0-6598-4b15-b0eb-b029cf1e6ade",
   "metadata": {},
   "outputs": [
    {
     "name": "stdout",
     "output_type": "stream",
     "text": [
      "___OBSERVATION SPACE______\n",
      "\n",
      "Observation Space: 16\n",
      "Sample Observation: 12\n"
     ]
    }
   ],
   "source": [
    "print(\"___OBSERVATION SPACE______\\n\")\n",
    "obs_space = env.observation_space\n",
    "print(\"Observation Space:\",obs_space.n)\n",
    "print(\"Sample Observation:\",obs_space.sample())"
   ]
  },
  {
   "cell_type": "code",
   "execution_count": 7,
   "id": "1ad5d6de-8e5c-4d56-b73e-3177e2dd03f5",
   "metadata": {},
   "outputs": [
    {
     "name": "stdout",
     "output_type": "stream",
     "text": [
      "____ACTION SPACE______\n",
      "\n",
      "Action Space Shape: 4\n",
      "Ation Space Sample: 3\n"
     ]
    }
   ],
   "source": [
    "print(\"____ACTION SPACE______\\n\")\n",
    "act_space = env.action_space\n",
    "print(\"Action Space Shape:\",act_space.n)\n",
    "print(\"Ation Space Sample:\",act_space.sample())"
   ]
  },
  {
   "cell_type": "code",
   "execution_count": 8,
   "id": "aa7a4075-dfa1-4938-910b-9ff0ff38a417",
   "metadata": {},
   "outputs": [
    {
     "name": "stdout",
     "output_type": "stream",
     "text": [
      "There are total of 16 possible states.\n",
      "There are total of 4 possible actions.\n"
     ]
    }
   ],
   "source": [
    "state_space = obs_space.n\n",
    "print(f\"There are total of {state_space} possible states.\")\n",
    "print(f\"There are total of {act_space.n} possible actions.\")"
   ]
  },
  {
   "cell_type": "code",
   "execution_count": 9,
   "id": "747c71f5-d668-41a3-9e97-bf2aacb59aa7",
   "metadata": {},
   "outputs": [
    {
     "name": "stdout",
     "output_type": "stream",
     "text": [
      "Example Q table looks like this:\n",
      " [[0. 0. 0. 0.]\n",
      " [0. 0. 0. 0.]\n",
      " [0. 0. 0. 0.]\n",
      " [0. 0. 0. 0.]\n",
      " [0. 0. 0. 0.]\n",
      " [0. 0. 0. 0.]\n",
      " [0. 0. 0. 0.]\n",
      " [0. 0. 0. 0.]\n",
      " [0. 0. 0. 0.]\n",
      " [0. 0. 0. 0.]\n",
      " [0. 0. 0. 0.]\n",
      " [0. 0. 0. 0.]\n",
      " [0. 0. 0. 0.]\n",
      " [0. 0. 0. 0.]\n",
      " [0. 0. 0. 0.]\n",
      " [0. 0. 0. 0.]]\n"
     ]
    }
   ],
   "source": [
    "# Creating a Q-table of size (state_space,action_space) with initial value of 0 (initializing using numpy array with np.zeros)\n",
    "def init_q_table(num_states,num_actions):\n",
    "    q_table = np.zeros((num_states,num_actions))\n",
    "    return q_table\n",
    "print(\"Example Q table looks like this:\\n\",init_q_table(state_space,act_space.n))"
   ]
  },
  {
   "cell_type": "code",
   "execution_count": 10,
   "id": "083d705e-59dd-4ab6-8c65-e4387e1b14e9",
   "metadata": {},
   "outputs": [],
   "source": [
    "def epsilon_greedy_policy(state,epsilon,QTable):\n",
    "    random_prob = random.uniform(0,1)\n",
    "    if random_prob > epsilon: # ----> Exploitation\n",
    "        # Take the highest value from the qtable in a given state\n",
    "        action = np.argmax(Qtable[state])\n",
    "    else: # -----> Exploration\n",
    "        action = env.action_space.sample()\n",
    "    return action"
   ]
  },
  {
   "cell_type": "code",
   "execution_count": 11,
   "id": "3d68cfa3-cc98-453d-bab9-00660bb34f53",
   "metadata": {},
   "outputs": [],
   "source": [
    "def greedy_policy(state,QTable):\n",
    "    action = np.argmax(Qtable[state])\n",
    "    return action"
   ]
  },
  {
   "cell_type": "code",
   "execution_count": 12,
   "id": "9afe2be9-74b5-4a67-a7de-ab1308c1afc9",
   "metadata": {},
   "outputs": [],
   "source": [
    "# HYPERPARAMETERS DEFINITION\n",
    "## Training parameters\n",
    "TRAIN_EPISODES = 1000  # Number of training episodes\n",
    "LEARNING_RATE = 0.7\n",
    "\n",
    "## Testing parameters\n",
    "TEST_EPISODES = 100    # Number of testing episodes\n",
    "SEED = 42\n",
    "\n",
    "## Environment parameters\n",
    "MAX_STEPS = 99 \n",
    "MAX_EPSILON = 1\n",
    "MIN_EPSILON = 0.05\n",
    "DECAY_RATE = 0.0005\n",
    "GAMMA = 0.95           # Discounting rate"
   ]
  },
  {
   "cell_type": "code",
   "execution_count": 13,
   "id": "33442723-b357-40d4-a862-969854fe84a9",
   "metadata": {},
   "outputs": [],
   "source": [
    "def train(episodes,min_epsilon,max_epsilon,Qtable,decay_rate):\n",
    "    for episode in trange(episodes):\n",
    "        epsilon = min_epsilon + (max_epsilon - min_epsilon) * np.exp( - decay_rate * episode)\n",
    "        state = env.reset()[0]\n",
    "        step = 0\n",
    "        terminated = False\n",
    "\n",
    "        for step in range(MAX_STEPS):\n",
    "            # Choose action\n",
    "            action = epsilon_greedy_policy(state,epsilon,Qtable)\n",
    "            # Take action (a) and get new state (new_state) with reward\n",
    "            new_state,reward,terminated,truncated,info = env.step(action)\n",
    "\n",
    "            Qtable[state][action] =  Qtable[state][action] + LEARNING_RATE * (reward + GAMMA * np.max(Qtable[new_state]) -  Qtable[state][action])\n",
    "\n",
    "            if terminated:\n",
    "                break\n",
    "            state = new_state\n",
    "        # print(f\"Episode: {episode + 1}; State: {state}\\n\")\n",
    "    return Qtable\n",
    "            "
   ]
  },
  {
   "cell_type": "code",
   "execution_count": 14,
   "id": "aeafa5ab-f605-4404-af52-ea92bf33e1c2",
   "metadata": {},
   "outputs": [],
   "source": [
    "Qtable = init_q_table(state_space,act_space.n)"
   ]
  },
  {
   "cell_type": "code",
   "execution_count": 15,
   "id": "6b5e25b8-5838-4ac3-8a2d-7f125d8b38d4",
   "metadata": {},
   "outputs": [
    {
     "data": {
      "application/vnd.jupyter.widget-view+json": {
       "model_id": "8c2c54ce9c8047f1a52d937f2faef890",
       "version_major": 2,
       "version_minor": 0
      },
      "text/plain": [
       "  0%|          | 0/1000 [00:00<?, ?it/s]"
      ]
     },
     "metadata": {},
     "output_type": "display_data"
    },
    {
     "data": {
      "text/plain": [
       "array([[0.73509189, 0.77378094, 0.77378094, 0.73509189],\n",
       "       [0.73509189, 0.        , 0.81450625, 0.77378094],\n",
       "       [0.77378094, 0.857375  , 0.77378094, 0.81450625],\n",
       "       [0.81450625, 0.        , 0.77378094, 0.77378094],\n",
       "       [0.77378094, 0.81450625, 0.        , 0.73509189],\n",
       "       [0.        , 0.        , 0.        , 0.        ],\n",
       "       [0.        , 0.9025    , 0.        , 0.81450625],\n",
       "       [0.        , 0.        , 0.        , 0.        ],\n",
       "       [0.81450625, 0.        , 0.857375  , 0.77378094],\n",
       "       [0.81450625, 0.9025    , 0.9025    , 0.        ],\n",
       "       [0.857375  , 0.95      , 0.        , 0.857375  ],\n",
       "       [0.        , 0.        , 0.        , 0.        ],\n",
       "       [0.        , 0.        , 0.        , 0.        ],\n",
       "       [0.        , 0.9025    , 0.95      , 0.857375  ],\n",
       "       [0.9025    , 0.95      , 1.        , 0.9025    ],\n",
       "       [0.        , 0.        , 0.        , 0.        ]])"
      ]
     },
     "execution_count": 15,
     "metadata": {},
     "output_type": "execute_result"
    }
   ],
   "source": [
    "final_qtable = train(TRAIN_EPISODES,MIN_EPSILON,MAX_EPSILON,Qtable,DECAY_RATE)\n",
    "final_qtable"
   ]
  },
  {
   "cell_type": "code",
   "execution_count": 16,
   "id": "b55b1e84-e069-47bc-9a6d-72598d8064d7",
   "metadata": {},
   "outputs": [],
   "source": [
    "def evaluate_agent(env,max_steps,test_episodes,Qtable,seed):\n",
    "    episode_rewards = []\n",
    "    for episode in range(test_episodes):\n",
    "        if seed:\n",
    "            state = env.reset(seed = seed)[0]\n",
    "        else:\n",
    "            state = env.reset()[0]\n",
    "        step = 0\n",
    "        terminated = False\n",
    "        total_rewards_ep = 0\n",
    "\n",
    "        for step in range(MAX_STEPS):\n",
    "            action = np.argmax(Qtable[state])\n",
    "            new_state,reward,terminated,truncated,info = env.step(action)\n",
    "            total_rewards_ep += reward\n",
    "\n",
    "            if terminated:\n",
    "                break\n",
    "            state = new_state\n",
    "        episode_rewards.append(total_rewards_ep)\n",
    "    mean_reward = np.mean(episode_rewards)\n",
    "    std_reward = np.std(episode_rewards)\n",
    "    return mean_reward,std_reward\n",
    "    "
   ]
  },
  {
   "cell_type": "code",
   "execution_count": 17,
   "id": "09303a96-5fe9-4034-b19e-5b800cde26e5",
   "metadata": {},
   "outputs": [
    {
     "name": "stdout",
     "output_type": "stream",
     "text": [
      "Mean reward : 1.00 +/- 0.00\n",
      "\n"
     ]
    }
   ],
   "source": [
    "mean_reward,std_reward = evaluate_agent(env,MAX_STEPS,TEST_EPISODES,Qtable,SEED)\n",
    "print(f\"Mean reward : {mean_reward:.2f} +/- {std_reward:.2f}\\n\")"
   ]
  },
  {
   "cell_type": "code",
   "execution_count": 23,
   "id": "e0fbcf8e-bebc-4a6d-85d6-fff499becc08",
   "metadata": {},
   "outputs": [],
   "source": [
    "def record_video(env,Qtable,out_directory,fps=1):\n",
    "    images = []\n",
    "    terminated = False\n",
    "    state = env.reset(seed=SEED)[0]\n",
    "    img = env.render()\n",
    "    images.append(img)\n",
    "\n",
    "    while not terminated:\n",
    "        action = np.argmax(Qtable[state])\n",
    "        state, reward,terminated,truncated,info = env.step(action)\n",
    "        img = env.render()\n",
    "        images.append(img)\n",
    "    imageio.mimsave(out_directory,[np.array(img) for i,img in enumerate(images)],fps=fps,loop=0)"
   ]
  },
  {
   "cell_type": "code",
   "execution_count": 19,
   "id": "e3328954-06fd-4e48-94b6-7a33c8d5664b",
   "metadata": {},
   "outputs": [],
   "source": [
    "VIDEO_PATH = \"final_game.gif\"\n",
    "VIDEO_FPS = 1"
   ]
  },
  {
   "cell_type": "code",
   "execution_count": 24,
   "id": "f848f73c-02ad-4ce5-a97b-d5623e311463",
   "metadata": {},
   "outputs": [],
   "source": [
    "record_video(env,final_qtable,VIDEO_PATH,VIDEO_FPS)"
   ]
  },
  {
   "cell_type": "code",
   "execution_count": 25,
   "id": "c9fa210a-4b79-4902-ab26-236e813a4a10",
   "metadata": {},
   "outputs": [
    {
     "data": {
      "image/gif": "[encoded data removed]",
      "text/plain": [
       "<IPython.core.display.Image object>"
      ]
     },
     "execution_count": 25,
     "metadata": {},
     "output_type": "execute_result"
    }
   ],
   "source": [
    "from IPython.display import Image\n",
    "Image(VIDEO_PATH)"
   ]
  }
 ],
 "metadata": {
  "kernelspec": {
   "display_name": "Frozen Lake Game Env Kernel",
   "language": "python",
   "name": "frozen-lake"
  },
  "language_info": {
   "codemirror_mode": {
    "name": "ipython",
    "version": 3
   },
   "file_extension": ".py",
   "mimetype": "text/x-python",
   "name": "python",
   "nbconvert_exporter": "python",
   "pygments_lexer": "ipython3",
   "version": "3.11.13"
  }
 },
 "nbformat": 4,
 "nbformat_minor": 5
}
