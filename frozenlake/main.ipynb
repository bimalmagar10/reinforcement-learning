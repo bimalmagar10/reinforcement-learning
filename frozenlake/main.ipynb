{
 "cells": [
  {
   "cell_type": "code",
   "execution_count": 8,
   "id": "7e3ec91b-c7d9-4f0a-a3c8-86a3ee82d702",
   "metadata": {},
   "outputs": [],
   "source": [
    "import warnings\n",
    "warnings.filterwarnings(\"ignore\", message=\"pkg_resources is deprecated\")"
   ]
  },
  {
   "cell_type": "code",
   "execution_count": 46,
   "id": "db3e20c8-07b8-448a-bbdf-7d973af1304c",
   "metadata": {},
   "outputs": [
    {
     "name": "stdout",
     "output_type": "stream",
     "text": [
      "****************************************************************************************************\n",
      "**** Welcome to the Frozen Lake Toy Text Project,a Reinforcement Learning\n",
      "**** implementation utilizing Q-Learning,a model-free based approach for solving games\n",
      "**** Experimented by:\n",
      "**** Bimal Thapa Magar\n",
      "****************************************************************************************************\n"
     ]
    }
   ],
   "source": [
    "print(f\"*\" * 100 + \"\\n**** Welcome to the Frozen Lake Toy Text Project\" + \",a Reinforcement Learning\" + \"\\n**** \" + \"implementation utilizing Q-Learning,a model-free based approach for solving games\")\n",
    "print(f\"****\" + \" Experimented by:\\n**** Bimal Thapa Magar\")\n",
    "print(f\"*\" * 100)"
   ]
  },
  {
   "cell_type": "code",
   "execution_count": 58,
   "id": "849616fe-55fb-42bf-aeaf-3a737c76eed9",
   "metadata": {},
   "outputs": [],
   "source": [
    "from pyvirtualdisplay import Display\n",
    "import numpy as np\n",
    "import gymnasium as gym\n",
    "import random\n",
    "import tqdm\n",
    "import imageio\n",
    "import imageio_ffmpeg\n",
    "from tqdm.notebook import trange"
   ]
  },
  {
   "cell_type": "code",
   "execution_count": 57,
   "id": "99ed71af-555b-4100-aeee-8a3a82396a14",
   "metadata": {},
   "outputs": [
    {
     "data": {
      "text/plain": [
       "<pyvirtualdisplay.display.Display at 0x116e57650>"
      ]
     },
     "execution_count": 57,
     "metadata": {},
     "output_type": "execute_result"
    }
   ],
   "source": [
    "virtual_display =  Display(visible=False,size=(1400,900))\n",
    "virtual_display.start()"
   ]
  },
  {
   "cell_type": "code",
   "execution_count": 59,
   "id": "6d2a7367-8e9d-47a4-91b0-de26083b4ce7",
   "metadata": {},
   "outputs": [],
   "source": [
    "env = gym.make('FrozenLake-v1',desc=None,map_name=\"4x4\",is_slippery=False)"
   ]
  },
  {
   "cell_type": "code",
   "execution_count": 100,
   "id": "28caf0f0-6598-4b15-b0eb-b029cf1e6ade",
   "metadata": {},
   "outputs": [
    {
     "name": "stdout",
     "output_type": "stream",
     "text": [
      "___OBSERVATION SPACE______\n",
      "\n",
      "Observation Space: 16\n",
      "Sample Observation: 11\n"
     ]
    }
   ],
   "source": [
    "print(\"___OBSERVATION SPACE______\\n\")\n",
    "obs_space = env.observation_space\n",
    "print(\"Observation Space:\",obs_space.n)\n",
    "print(\"Sample Observation:\",obs_space.sample())"
   ]
  },
  {
   "cell_type": "code",
   "execution_count": 101,
   "id": "1ad5d6de-8e5c-4d56-b73e-3177e2dd03f5",
   "metadata": {},
   "outputs": [
    {
     "name": "stdout",
     "output_type": "stream",
     "text": [
      "____ACTION SPACE______\n",
      "\n",
      "Action Space Shape: 4\n",
      "Ation Space Sample: 3\n"
     ]
    }
   ],
   "source": [
    "print(\"____ACTION SPACE______\\n\")\n",
    "act_space = env.action_space\n",
    "print(\"Action Space Shape:\",act_space.n)\n",
    "print(\"Ation Space Sample:\",act_space.sample())"
   ]
  },
  {
   "cell_type": "code",
   "execution_count": 102,
   "id": "aa7a4075-dfa1-4938-910b-9ff0ff38a417",
   "metadata": {},
   "outputs": [
    {
     "name": "stdout",
     "output_type": "stream",
     "text": [
      "There are total of 16 possible states.\n",
      "There are total of 4 possible actions.\n"
     ]
    }
   ],
   "source": [
    "state_space = obs_space.n\n",
    "print(f\"There are total of {state_space} possible states.\")\n",
    "print(f\"There are total of {act_space.n} possible actions.\")"
   ]
  },
  {
   "cell_type": "code",
   "execution_count": 105,
   "id": "747c71f5-d668-41a3-9e97-bf2aacb59aa7",
   "metadata": {},
   "outputs": [
    {
     "name": "stdout",
     "output_type": "stream",
     "text": [
      "Example Q table looks like this:\n",
      " [[0. 0. 0. 0.]\n",
      " [0. 0. 0. 0.]\n",
      " [0. 0. 0. 0.]\n",
      " [0. 0. 0. 0.]]\n"
     ]
    }
   ],
   "source": [
    "# Creating a Q-table of size (state_space,action_space) with initial value of 0 (initializing using numpy array with np.zeros)\n",
    "def init_q_table(num_states,num_actions):\n",
    "    q_table = np.zeros((num_states,num_actions))\n",
    "    return q_table\n",
    "print(\"Example Q table looks like this:\\n\",init_q_table(4,4))"
   ]
  }
 ],
 "metadata": {
  "kernelspec": {
   "display_name": "Frozen Lake Game Env Kernel",
   "language": "python",
   "name": "frozen-lake"
  },
  "language_info": {
   "codemirror_mode": {
    "name": "ipython",
    "version": 3
   },
   "file_extension": ".py",
   "mimetype": "text/x-python",
   "name": "python",
   "nbconvert_exporter": "python",
   "pygments_lexer": "ipython3",
   "version": "3.11.13"
  }
 },
 "nbformat": 4,
 "nbformat_minor": 5
}
